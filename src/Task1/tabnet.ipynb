{
 "cells": [
  {
   "cell_type": "code",
   "execution_count": 2,
   "metadata": {},
   "outputs": [
    {
     "data": {
      "text/plain": [
       "(124013, 53149)"
      ]
     },
     "execution_count": 2,
     "metadata": {},
     "output_type": "execute_result"
    }
   ],
   "source": [
    "import pandas as pd\n",
    "train_data = pd.read_csv('../../data/train_data.csv')\n",
    "test_data = pd.read_csv('../../data/test_data.csv')\n",
    "len(train_data), len(test_data)"
   ]
  },
  {
   "cell_type": "code",
   "execution_count": 3,
   "metadata": {},
   "outputs": [
    {
     "name": "stdout",
     "output_type": "stream",
     "text": [
      "Number of overlapping rows: 0\n"
     ]
    }
   ],
   "source": [
    "# Check for data leaks\n",
    "overlapping_rows = train_data.merge(test_data, how='inner')\n",
    "print(f\"Number of overlapping rows: {len(overlapping_rows)}\")"
   ]
  },
  {
   "cell_type": "code",
   "execution_count": 4,
   "metadata": {},
   "outputs": [
    {
     "data": {
      "text/plain": [
       "(123981, 53130)"
      ]
     },
     "execution_count": 4,
     "metadata": {},
     "output_type": "execute_result"
    }
   ],
   "source": [
    "# Drop rows with empty values\n",
    "train_data.drop([\"latitude\", \"longitude\", \"env\", \"TestId\", \"date_initial\", \"date_final\", \"Feature\", \"Unnamed: 0\"], axis=1, inplace=True)\n",
    "test_data.drop([\"latitude\", \"longitude\", \"env\", \"TestId\", \"date_initial\", \"date_final\", \"Feature\", \"Unnamed: 0\"], axis=1, inplace=True)\n",
    "\n",
    "train_data.dropna(inplace=True)\n",
    "test_data.dropna(inplace=True)\n",
    "\n",
    "len(train_data), len(test_data)"
   ]
  },
  {
   "cell_type": "code",
   "execution_count": 5,
   "metadata": {},
   "outputs": [],
   "source": [
    "X_train = train_data.drop([\"Productivity (y)\"], axis=1)\n",
    "y_train = train_data[\"Productivity (y)\"]\n",
    "\n",
    "X_test = test_data.drop([\"Productivity (y)\"], axis=1)\n",
    "y_test = test_data[\"Productivity (y)\"]"
   ]
  },
  {
   "cell_type": "code",
   "execution_count": 6,
   "metadata": {},
   "outputs": [],
   "source": [
    "X_train = pd.get_dummies(X_train, columns=[\"Specie\"], drop_first=True)  # drop_first=True to avoid multicollinearity\n",
    "X_test = pd.get_dummies(X_test, columns=[\"Specie\"], drop_first=True)  # drop_first=True to avoid multicollinearity"
   ]
  },
  {
   "cell_type": "code",
   "execution_count": 10,
   "metadata": {},
   "outputs": [
    {
     "name": "stdout",
     "output_type": "stream",
     "text": [
      "Root Mean Squared Error (RMSE): 1.1716\n",
      "R² Score: 0.8866\n"
     ]
    }
   ],
   "source": [
    "from sklearn.metrics import mean_squared_error\n",
    "import xgboost as xgb\n",
    "from sklearn.metrics import r2_score\n",
    "import numpy as np \n",
    "xgb_reg = xgb.XGBRegressor(objective=\"reg:squarederror\", n_estimators=100, random_state=42)\n",
    "xgb_reg.fit(X_train, y_train)\n",
    "\n",
    "# Predict and evaluate\n",
    "y_pred = xgb_reg.predict(X_test)\n",
    "rmse = np.sqrt(mean_squared_error(y_test, y_pred))\n",
    "r2 = r2_score(y_test, y_pred)\n",
    "\n",
    "# print(f\"Selected Features: {selected_features}\")\n",
    "print(f\"Root Mean Squared Error (RMSE): {rmse:.4f}\")\n",
    "print(f\"R² Score: {r2:.4f}\")"
   ]
  },
  {
   "cell_type": "code",
   "execution_count": 8,
   "metadata": {},
   "outputs": [
    {
     "name": "stderr",
     "output_type": "stream",
     "text": [
      "/opt/anaconda3/envs/tiles/lib/python3.12/site-packages/torch/utils/_pytree.py:185: FutureWarning: optree is installed but the version is too old to support PyTorch Dynamo in C++ pytree. C++ pytree support is disabled. Please consider upgrading optree using `python3 -m pip install --upgrade 'optree>=0.13.0'`.\n",
      "  warnings.warn(\n",
      "/opt/anaconda3/envs/tiles/lib/python3.12/site-packages/pytorch_tabnet/abstract_model.py:82: UserWarning: Device used : cpu\n",
      "  warnings.warn(f\"Device used : {self.device}\")\n",
      "/opt/anaconda3/envs/tiles/lib/python3.12/site-packages/pytorch_tabnet/abstract_model.py:687: UserWarning: No early stopping will be performed, last training weights will be used.\n",
      "  warnings.warn(wrn_msg)\n"
     ]
    },
    {
     "name": "stdout",
     "output_type": "stream",
     "text": [
      "epoch 0  | loss: 27.15493|  0:00:03s\n",
      "epoch 1  | loss: 2.49384 |  0:00:06s\n",
      "epoch 2  | loss: 2.19679 |  0:00:08s\n",
      "epoch 3  | loss: 2.09041 |  0:00:10s\n",
      "epoch 4  | loss: 1.97447 |  0:00:11s\n",
      "epoch 5  | loss: 1.89094 |  0:00:14s\n",
      "epoch 6  | loss: 1.84095 |  0:00:17s\n",
      "epoch 7  | loss: 1.81823 |  0:00:20s\n",
      "epoch 8  | loss: 1.79865 |  0:00:21s\n",
      "epoch 9  | loss: 1.74163 |  0:00:23s\n"
     ]
    }
   ],
   "source": [
    "import numpy as np\n",
    "from pytorch_tabnet.tab_model import TabNetRegressor\n",
    "from sklearn.metrics import mean_absolute_error, mean_squared_error, r2_score\n",
    "\n",
    "\n",
    "reg = TabNetRegressor()\n",
    "reg.fit(\n",
    "  X_train.values.astype(float), y_train.values.astype(float).reshape(-1, 1),\n",
    "  max_epochs=10\n",
    "\n",
    ")\n"
   ]
  },
  {
   "cell_type": "code",
   "execution_count": 9,
   "metadata": {},
   "outputs": [
    {
     "name": "stdout",
     "output_type": "stream",
     "text": [
      "Mean Absolute Error (MAE): 0.9448\n",
      "Mean Squared Error (MSE): 1.6279\n",
      "Root Mean Squared Error (RMSE): 1.2759\n",
      "R² Score: 0.8655\n"
     ]
    }
   ],
   "source": [
    "# Predict on test set\n",
    "y_pred = reg.predict(X_test.values.astype(float))\n",
    "\n",
    "# Regression Analysis\n",
    "mae = mean_absolute_error(y_test, y_pred)\n",
    "mse = mean_squared_error(y_test, y_pred)\n",
    "rmse = np.sqrt(mse)\n",
    "r2 = r2_score(y_test, y_pred)\n",
    "\n",
    "# Print results\n",
    "print(f\"Mean Absolute Error (MAE): {mae:.4f}\")\n",
    "print(f\"Mean Squared Error (MSE): {mse:.4f}\")\n",
    "print(f\"Root Mean Squared Error (RMSE): {rmse:.4f}\")\n",
    "print(f\"R² Score: {r2:.4f}\")"
   ]
  },
  {
   "cell_type": "code",
   "execution_count": 31,
   "metadata": {},
   "outputs": [
    {
     "data": {
      "text/plain": [
       "array([0.00000000e+00, 4.11311026e-02, 0.00000000e+00, 5.07018947e-02,\n",
       "       0.00000000e+00, 4.75799340e-02, 3.61992922e-02, 1.17888917e-01,\n",
       "       3.14648691e-03, 0.00000000e+00, 6.93558319e-03, 2.82702296e-03,\n",
       "       0.00000000e+00, 0.00000000e+00, 0.00000000e+00, 1.02706799e-02,\n",
       "       2.17486773e-02, 1.30695880e-03, 7.46994701e-02, 3.63885924e-02,\n",
       "       0.00000000e+00, 1.36017756e-02, 1.55036616e-02, 0.00000000e+00,\n",
       "       0.00000000e+00, 8.72263465e-04, 0.00000000e+00, 0.00000000e+00,\n",
       "       0.00000000e+00, 4.60988136e-03, 4.62367639e-02, 3.49142236e-02,\n",
       "       0.00000000e+00, 9.05670798e-02, 5.08882217e-02, 1.00722313e-02,\n",
       "       0.00000000e+00, 6.38435309e-02, 4.86645793e-03, 0.00000000e+00,\n",
       "       1.27260068e-05, 0.00000000e+00, 0.00000000e+00, 0.00000000e+00,\n",
       "       1.18714955e-01, 0.00000000e+00, 2.33142967e-02, 0.00000000e+00,\n",
       "       2.26270049e-02, 0.00000000e+00, 0.00000000e+00, 7.32962922e-03,\n",
       "       1.57130636e-02, 0.00000000e+00, 0.00000000e+00, 0.00000000e+00,\n",
       "       2.54876212e-02])"
      ]
     },
     "execution_count": 31,
     "metadata": {},
     "output_type": "execute_result"
    }
   ],
   "source": [
    "reg.feature_importances_"
   ]
  },
  {
   "cell_type": "code",
   "execution_count": 33,
   "metadata": {},
   "outputs": [],
   "source": [
    "explain_matrix, masks = reg.explain(X_test.values.astype(float))"
   ]
  },
  {
   "cell_type": "code",
   "execution_count": 34,
   "metadata": {},
   "outputs": [
    {
     "data": {
      "image/png": "[encoded data removed]",
      "text/plain": [
       "<Figure size 2000x2000 with 3 Axes>"
      ]
     },
     "metadata": {},
     "output_type": "display_data"
    }
   ],
   "source": [
    "from matplotlib import pyplot as plt\n",
    "fig, axs = plt.subplots(1, 3, figsize=(20,20))\n",
    "\n",
    "for i in range(3):\n",
    "    axs[i].imshow(masks[i][:50])\n",
    "    axs[i].set_title(f\"mask {i}\")"
   ]
  },
  {
   "cell_type": "code",
   "execution_count": 40,
   "metadata": {},
   "outputs": [
    {
     "name": "stdout",
     "output_type": "stream",
     "text": [
      "Specie_PGRN: 0.118715\n",
      "bio_15: 0.117889\n",
      "wv0033: 0.090567\n",
      "bio_8: 0.074699\n",
      "NDVI_5DayAvg_initial: 0.063844\n",
      "wv1500: 0.050888\n",
      "bio_11: 0.050702\n",
      "bio_13: 0.047580\n",
      "silt: 0.046237\n",
      "bio_1: 0.041131\n",
      "bio_9: 0.036389\n",
      "bio_14: 0.036199\n",
      "soc: 0.034914\n",
      "Specie_PTEL: 0.025488\n",
      "Specie_PMAX: 0.023314\n",
      "Specie_PPAT: 0.022627\n",
      "bio_6: 0.021749\n",
      "Specie_PPATxPTEH: 0.015713\n",
      "cec: 0.015504\n",
      "bdod: 0.013602\n",
      "bio_5: 0.010271\n",
      "slope: 0.010072\n",
      "Specie_PPATxPOOC: 0.007330\n",
      "bio_18: 0.006936\n",
      "NDVI_15DayAvg_final: 0.004866\n",
      "sand: 0.004610\n",
      "bio_16: 0.003146\n",
      "bio_19: 0.002827\n",
      "bio_7: 0.001307\n",
      "nitrogen: 0.000872\n",
      "Specie_PCARxPOOC: 0.000013\n",
      "age (years): 0.000000\n",
      "bio_10: 0.000000\n",
      "bio_12: 0.000000\n",
      "bio_17: 0.000000\n",
      "bio_2: 0.000000\n",
      "bio_3: 0.000000\n",
      "bio_4: 0.000000\n",
      "elev: 0.000000\n",
      "cfvo: 0.000000\n",
      "clay: 0.000000\n",
      "ocd: 0.000000\n",
      "ocs: 0.000000\n",
      "phh2o: 0.000000\n",
      "wv0010: 0.000000\n",
      "NDVI_5DayAvg_final: 0.000000\n",
      "NDVI_15DayAvg_initial: 0.000000\n",
      "Specie_PCARxPTEL: 0.000000\n",
      "Specie_PELL: 0.000000\n",
      "Specie_PELLxPCAR: 0.000000\n",
      "Specie_PGRS: 0.000000\n",
      "Specie_POOC: 0.000000\n",
      "Specie_PPATxPELL: 0.000000\n",
      "Specie_PPATxPGRS: 0.000000\n",
      "Specie_PPATxPTEL: 0.000000\n",
      "Specie_PTAE: 0.000000\n",
      "Specie_PTEH: 0.000000\n"
     ]
    }
   ],
   "source": [
    "# Assuming X_train is a Pandas DataFrame\n",
    "feature_names = X_train.columns\n",
    "\n",
    "# Feature importances from TabNet\n",
    "importances = reg.feature_importances_  # or reg.feature_importances_ for regression\n",
    "\n",
    "# Pair feature names with their importances\n",
    "feature_importance_dict = dict(zip(feature_names, importances))\n",
    "\n",
    "# Sort features by importance (optional)\n",
    "sorted_features = sorted(feature_importance_dict.items(), key=lambda x: x[1], reverse=True)\n",
    "\n",
    "# Print feature names and their importances\n",
    "for feature, importance in sorted_features:\n",
    "    print(f\"{feature}: {importance:.6f}\")\n"
   ]
  },
  {
   "cell_type": "code",
   "execution_count": null,
   "metadata": {},
   "outputs": [],
   "source": []
  }
 ],
 "metadata": {
  "kernelspec": {
   "display_name": "tiles",
   "language": "python",
   "name": "python3"
  },
  "language_info": {
   "codemirror_mode": {
    "name": "ipython",
    "version": 3
   },
   "file_extension": ".py",
   "mimetype": "text/x-python",
   "name": "python",
   "nbconvert_exporter": "python",
   "pygments_lexer": "ipython3",
   "version": "3.12.7"
  }
 },
 "nbformat": 4,
 "nbformat_minor": 2
}
