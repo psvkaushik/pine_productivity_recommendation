{
 "cells": [
  {
   "cell_type": "code",
   "execution_count": 1,
   "metadata": {},
   "outputs": [],
   "source": [
    "import pandas as pd"
   ]
  },
  {
   "cell_type": "code",
   "execution_count": 2,
   "metadata": {},
   "outputs": [],
   "source": [
    "train_data = pd.read_csv('../../data/train_data.csv')\n",
    "test_data = pd.read_csv('../../data/test_data.csv')"
   ]
  },
  {
   "cell_type": "code",
   "execution_count": 3,
   "metadata": {},
   "outputs": [
    {
     "data": {
      "text/plain": [
       "(124013, 53149)"
      ]
     },
     "execution_count": 3,
     "metadata": {},
     "output_type": "execute_result"
    }
   ],
   "source": [
    "len(train_data), len(test_data)"
   ]
  },
  {
   "cell_type": "code",
   "execution_count": 4,
   "metadata": {},
   "outputs": [
    {
     "name": "stdout",
     "output_type": "stream",
     "text": [
      "Number of overlapping rows: 0\n"
     ]
    }
   ],
   "source": [
    "overlapping_rows = train_data.merge(test_data, how='inner')\n",
    "print(f\"Number of overlapping rows: {len(overlapping_rows)}\")\n"
   ]
  },
  {
   "cell_type": "code",
   "execution_count": 5,
   "metadata": {},
   "outputs": [
    {
     "name": "stdout",
     "output_type": "stream",
     "text": [
      "Number of overlapping TestId: 307\n"
     ]
    }
   ],
   "source": [
    "common_ids = set(train_data[\"TestId\"]).intersection(set(test_data[\"TestId\"]))\n",
    "print(f\"Number of overlapping TestId: {len(common_ids)}\")\n"
   ]
  },
  {
   "cell_type": "code",
   "execution_count": 6,
   "metadata": {},
   "outputs": [
    {
     "data": {
      "text/plain": [
       "(123981, 53130)"
      ]
     },
     "execution_count": 6,
     "metadata": {},
     "output_type": "execute_result"
    }
   ],
   "source": [
    "train_data.drop([\"latitude\", \"longitude\", \"env\", \"TestId\", \"date_initial\", \"date_final\", \"Feature\", \"Unnamed: 0\"], axis=1, inplace=True)\n",
    "test_data.drop([\"latitude\", \"longitude\", \"env\", \"TestId\", \"date_initial\", \"date_final\", \"Feature\", \"Unnamed: 0\"], axis=1, inplace=True)\n",
    "\n",
    "train_data.dropna(inplace=True)\n",
    "test_data.dropna(inplace=True)\n",
    "\n",
    "len(train_data), len(test_data)"
   ]
  },
  {
   "cell_type": "code",
   "execution_count": 7,
   "metadata": {},
   "outputs": [],
   "source": [
    "X_train = train_data.drop([\"Productivity (y)\"], axis=1)\n",
    "y_train = train_data[\"Productivity (y)\"]\n",
    "\n",
    "X_test = test_data.drop([\"Productivity (y)\"], axis=1)\n",
    "y_test = test_data[\"Productivity (y)\"]"
   ]
  },
  {
   "cell_type": "code",
   "execution_count": 8,
   "metadata": {},
   "outputs": [],
   "source": [
    "# One-hot encoding the \"Specie\" column\n",
    "X_train = pd.get_dummies(X_train, columns=[\"Specie\"], drop_first=True)  # drop_first=True to avoid multicollinearity\n",
    "X_test = pd.get_dummies(X_test, columns=[\"Specie\"], drop_first=True)  # drop_first=True to avoid multicollinearity"
   ]
  },
  {
   "cell_type": "code",
   "execution_count": 9,
   "metadata": {},
   "outputs": [
    {
     "name": "stdout",
     "output_type": "stream",
     "text": [
      "Mean Absolute Error (MAE): 0.8800\n",
      "Mean Squared Error (MSE): 1.4308\n",
      "Root Mean Squared Error (RMSE): 1.1961\n",
      "R² Score: 0.8818\n"
     ]
    }
   ],
   "source": [
    "import numpy as np\n",
    "from sklearn.ensemble import RandomForestRegressor\n",
    "from sklearn.metrics import mean_absolute_error, mean_squared_error, r2_score\n",
    "\n",
    "\n",
    "# Initialize and train Random Forest Regressor\n",
    "rf = RandomForestRegressor(n_estimators=100, random_state=42)\n",
    "rf.fit(X_train, y_train)\n",
    "\n",
    "# Predict on test set\n",
    "y_pred = rf.predict(X_test)\n",
    "\n",
    "# Regression Analysis\n",
    "mae = mean_absolute_error(y_test, y_pred)\n",
    "mse = mean_squared_error(y_test, y_pred)\n",
    "rmse = np.sqrt(mse)\n",
    "r2 = r2_score(y_test, y_pred)\n",
    "\n",
    "# Print results\n",
    "print(f\"Mean Absolute Error (MAE): {mae:.4f}\")\n",
    "print(f\"Mean Squared Error (MSE): {mse:.4f}\")\n",
    "print(f\"Root Mean Squared Error (RMSE): {rmse:.4f}\")\n",
    "print(f\"R² Score: {r2:.4f}\")\n"
   ]
  },
  {
   "cell_type": "code",
   "execution_count": 10,
   "metadata": {},
   "outputs": [
    {
     "name": "stdout",
     "output_type": "stream",
     "text": [
      "Feature Importance:\n",
      "bio_1\n",
      "wv0010\n",
      "Specie_PMAX\n",
      "Specie_PGRN\n",
      "bio_6\n",
      "bio_4\n",
      "bio_12\n",
      "clay\n",
      "elev\n",
      "bio_2\n",
      "wv0033\n",
      "bio_18\n",
      "silt\n",
      "Specie_POOC\n",
      "bio_17\n",
      "bio_15\n",
      "wv1500\n",
      "bio_13\n",
      "bio_5\n",
      "ocs\n",
      "NDVI_5DayAvg_final\n",
      "cfvo\n",
      "Specie_PPAT\n",
      "bio_16\n",
      "Specie_PTEH\n",
      "ocd\n",
      "NDVI_15DayAvg_final\n",
      "Specie_PTEL\n",
      "bio_9\n",
      "bio_3\n",
      "soc\n",
      "bio_8\n",
      "bio_14\n",
      "sand\n",
      "bio_7\n",
      "slope\n",
      "bdod\n",
      "cec\n",
      "bio_11\n",
      "NDVI_15DayAvg_initial\n",
      "phh2o\n",
      "NDVI_5DayAvg_initial\n",
      "nitrogen\n",
      "Specie_PGRS\n",
      "Specie_PTAE\n",
      "bio_10\n",
      "bio_19\n",
      "Specie_PELL\n",
      "Specie_PPATxPTEL\n",
      "Specie_PPATxPTEH\n",
      "Specie_PELLxPCAR\n",
      "Specie_PCARxPTEL\n",
      "Specie_PPATxPGRS\n",
      "Specie_PPATxPELL\n",
      "Specie_PCARxPOOC\n",
      "Specie_PPATxPOOC\n",
      "age (years)\n"
     ]
    }
   ],
   "source": [
    "feature_importances = rf.feature_importances_ \n",
    "# Sort features by importance\n",
    "sorted_idx = np.argsort(feature_importances)[::-1]\n",
    "# Print the most important features\n",
    "\n",
    "print(\"Feature Importance:\")\n",
    "\n",
    "for feature in X_train.columns[sorted_idx]:\n",
    "    print(feature) "
   ]
  },
  {
   "cell_type": "code",
   "execution_count": 11,
   "metadata": {},
   "outputs": [
    {
     "name": "stdout",
     "output_type": "stream",
     "text": [
      "Mean Absolute Error (MAE): 1.1693\n",
      "Mean Squared Error (MSE): 2.4905\n",
      "Root Mean Squared Error (RMSE): 1.5781\n",
      "R² Score: 0.7942\n"
     ]
    }
   ],
   "source": [
    "# Initialize and train Random Forest Regressor\n",
    "X_train = train_data.drop([\"Productivity (y)\", \"Specie\"], axis=1)\n",
    "X_test = test_data.drop([\"Productivity (y)\", \"Specie\"], axis=1)\n",
    "\n",
    "\n",
    "rf = RandomForestRegressor(n_estimators=100, random_state=42)\n",
    "rf.fit(X_train, y_train)\n",
    "\n",
    "# Predict on test set\n",
    "y_pred = rf.predict(X_test)\n",
    "\n",
    "# Regression Analysis\n",
    "mae = mean_absolute_error(y_test, y_pred)\n",
    "mse = mean_squared_error(y_test, y_pred)\n",
    "rmse = np.sqrt(mse)\n",
    "r2 = r2_score(y_test, y_pred)\n",
    "\n",
    "# Print results\n",
    "print(f\"Mean Absolute Error (MAE): {mae:.4f}\")\n",
    "print(f\"Mean Squared Error (MSE): {mse:.4f}\")\n",
    "print(f\"Root Mean Squared Error (RMSE): {rmse:.4f}\")\n",
    "print(f\"R² Score: {r2:.4f}\")"
   ]
  },
  {
   "cell_type": "code",
   "execution_count": 13,
   "metadata": {},
   "outputs": [
    {
     "name": "stdout",
     "output_type": "stream",
     "text": [
      "Feature Importance:\n",
      "bio_1\n",
      "wv0010\n",
      "bio_18\n",
      "wv0033\n",
      "bio_2\n",
      "bio_6\n",
      "bio_12\n",
      "bio_4\n",
      "elev\n",
      "clay\n",
      "bio_15\n",
      "bio_9\n",
      "bio_14\n",
      "bio_11\n",
      "cec\n",
      "ocd\n",
      "cfvo\n",
      "bio_16\n",
      "silt\n",
      "bdod\n",
      "bio_3\n",
      "bio_17\n",
      "wv1500\n",
      "soc\n",
      "bio_10\n",
      "NDVI_5DayAvg_initial\n",
      "slope\n",
      "bio_19\n",
      "phh2o\n",
      "bio_8\n",
      "NDVI_5DayAvg_final\n",
      "nitrogen\n",
      "bio_13\n",
      "bio_5\n",
      "NDVI_15DayAvg_final\n",
      "NDVI_15DayAvg_initial\n",
      "sand\n",
      "bio_7\n",
      "ocs\n",
      "age (years)\n"
     ]
    }
   ],
   "source": [
    "feature_importances = rf.feature_importances_ \n",
    "# Sort features by importance\n",
    "sorted_idx = np.argsort(feature_importances)[::-1]\n",
    "# Print the most important features\n",
    "\n",
    "print(\"Feature Importance:\")\n",
    "\n",
    "for feature in X_train.columns[sorted_idx]:\n",
    "    print(feature) "
   ]
  },
  {
   "cell_type": "code",
   "execution_count": null,
   "metadata": {},
   "outputs": [],
   "source": [
    "Hello "
   ]
  }
 ],
 "metadata": {
  "kernelspec": {
   "display_name": "kg3",
   "language": "python",
   "name": "python3"
  },
  "language_info": {
   "codemirror_mode": {
    "name": "ipython",
    "version": 3
   },
   "file_extension": ".py",
   "mimetype": "text/x-python",
   "name": "python",
   "nbconvert_exporter": "python",
   "pygments_lexer": "ipython3",
   "version": "3.8.20"
  }
 },
 "nbformat": 4,
 "nbformat_minor": 2
}
