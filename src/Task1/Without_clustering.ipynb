{
 "cells": [
  {
   "cell_type": "markdown",
   "metadata": {},
   "source": [
    "Experiment with 70:30 data split where 30 is unused."
   ]
  },
  {
   "cell_type": "code",
   "execution_count": 26,
   "metadata": {},
   "outputs": [
    {
     "data": {
      "text/plain": [
       "(86809, 37204)"
      ]
     },
     "execution_count": 26,
     "metadata": {},
     "output_type": "execute_result"
    }
   ],
   "source": [
    "import pandas as pd\n",
    "train_data = pd.read_csv('../../data/tr_data.csv')\n",
    "test_data = pd.read_csv('../../data/te_data.csv')\n",
    "len(train_data), len(test_data)"
   ]
  },
  {
   "cell_type": "code",
   "execution_count": 27,
   "metadata": {},
   "outputs": [
    {
     "data": {
      "text/plain": [
       "(86786, 37195)"
      ]
     },
     "execution_count": 27,
     "metadata": {},
     "output_type": "execute_result"
    }
   ],
   "source": [
    "# Drop rows with empty values\n",
    "train_data.drop([\"latitude\", \"longitude\", \"env\", \"TestId\", \"date_initial\", \"date_final\", \"Feature\", \"Unnamed: 0\"], axis=1, inplace=True)\n",
    "test_data.drop([\"latitude\", \"longitude\", \"env\", \"TestId\", \"date_initial\", \"date_final\", \"Feature\", \"Unnamed: 0\"], axis=1, inplace=True)\n",
    "\n",
    "train_data.dropna(inplace=True)\n",
    "test_data.dropna(inplace=True)\n",
    "\n",
    "len(train_data), len(test_data)\n"
   ]
  },
  {
   "cell_type": "code",
   "execution_count": 28,
   "metadata": {},
   "outputs": [],
   "source": [
    "from sklearn.preprocessing import StandardScaler, LabelEncoder\n",
    "num_cols = train_data.select_dtypes(include=[\"number\"]).columns.tolist()\n",
    "train_data[num_cols] = train_data[num_cols].fillna(train_data[num_cols].mean())\n",
    "train_data[\"Specie\"] = train_data[\"Specie\"].fillna(train_data[\"Specie\"].mode()[0])\n",
    "\n",
    "# Encode the \"Specie\" column using Label Encoding\n",
    "label_encoder = LabelEncoder()\n",
    "train_data[\"Specie\"] = label_encoder.fit_transform(train_data[\"Specie\"])"
   ]
  },
  {
   "cell_type": "code",
   "execution_count": 29,
   "metadata": {},
   "outputs": [],
   "source": [
    "from sklearn.preprocessing import StandardScaler, LabelEncoder\n",
    "num_cols = test_data.select_dtypes(include=[\"number\"]).columns.tolist()\n",
    "test_data[num_cols] = test_data[num_cols].fillna(test_data[num_cols].mean())\n",
    "test_data[\"Specie\"] = test_data[\"Specie\"].fillna(test_data[\"Specie\"].mode()[0])\n",
    "\n",
    "# Encode the \"Specie\" column using Label Encoding\n",
    "label_encoder = LabelEncoder()\n",
    "test_data[\"Specie\"] = label_encoder.fit_transform(test_data[\"Specie\"])"
   ]
  },
  {
   "cell_type": "markdown",
   "metadata": {},
   "source": [
    "Computing Correlation Matrix"
   ]
  },
  {
   "cell_type": "code",
   "execution_count": 30,
   "metadata": {},
   "outputs": [],
   "source": [
    "# Compute correlation matrix\n",
    "corr_matrix = train_data.corr()\n",
    "\n",
    "# Select features with a strong correlation to the target variable (threshold = 0.2)\n",
    "corr_threshold = 0.2\n",
    "target_corr = corr_matrix[\"Productivity (y)\"].abs().sort_values(ascending=False)\n",
    "selected_features = target_corr[target_corr > corr_threshold].index.tolist()\n",
    "\n",
    "# Remove multicollinearity: Drop features highly correlated (> 0.85) with each other\n",
    "corr_drop_threshold = 0.85\n",
    "drop_features = set()\n",
    "\n",
    "for feature in selected_features:\n",
    "    if feature in drop_features:\n",
    "        continue\n",
    "    correlated_features = corr_matrix[feature][corr_matrix[feature].abs() > corr_drop_threshold].index.tolist()\n",
    "    correlated_features.remove(feature)  # Keep one and drop others\n",
    "    drop_features.update(correlated_features)\n",
    "\n",
    "# Final selected features\n",
    "selected_features = [f for f in selected_features if f not in drop_features]"
   ]
  },
  {
   "cell_type": "markdown",
   "metadata": {},
   "source": [
    "Run the below Cell if you want results for fulll data"
   ]
  },
  {
   "cell_type": "code",
   "execution_count": 21,
   "metadata": {},
   "outputs": [],
   "source": [
    "X_train = train_data.drop(columns=[\"Productivity (y)\"])\n",
    "y_train = train_data[\"Productivity (y)\"]\n",
    "\n",
    "X_test = test_data.drop(columns=[\"Productivity (y)\"])\n",
    "y_test = test_data[\"Productivity (y)\"]"
   ]
  },
  {
   "cell_type": "markdown",
   "metadata": {},
   "source": [
    "Run the below cell for correlation analysis"
   ]
  },
  {
   "cell_type": "code",
   "execution_count": 31,
   "metadata": {},
   "outputs": [],
   "source": [
    "X_train = train_data[selected_features].drop(columns=[\"Productivity (y)\"])\n",
    "y_train = train_data[\"Productivity (y)\"]\n",
    "\n",
    "X_test = test_data[selected_features].drop(columns=[\"Productivity (y)\"])\n",
    "y_test = test_data[\"Productivity (y)\"]"
   ]
  },
  {
   "cell_type": "code",
   "execution_count": 32,
   "metadata": {},
   "outputs": [
    {
     "name": "stdout",
     "output_type": "stream",
     "text": [
      "Mean Squared Error (MSE): 1.3897\n",
      "Mean Absolute Error (MSE): 0.8604\n",
      "R² Score: 0.8838\n"
     ]
    }
   ],
   "source": [
    "import pandas as pd\n",
    "import numpy as np\n",
    "import xgboost as xgb\n",
    "from sklearn.model_selection import train_test_split\n",
    "from sklearn.preprocessing import StandardScaler, LabelEncoder\n",
    "from sklearn.metrics import mean_squared_error, r2_score, mean_absolute_error\n",
    "xgb_reg = xgb.XGBRegressor(objective=\"reg:squarederror\", n_estimators=100, random_state=42)\n",
    "xgb_reg.fit(X_train, y_train)\n",
    "\n",
    "# Predict and evaluate\n",
    "y_pred = xgb_reg.predict(X_test)\n",
    "mse = mean_squared_error(y_test, y_pred)\n",
    "mae = mean_absolute_error(y_test,y_pred)\n",
    "r2 = r2_score(y_test, y_pred)\n",
    "\n",
    "# print(f\"Selected Features: {selected_features}\")\n",
    "print(f\"Mean Squared Error (MSE): {mse:.4f}\")\n",
    "print(f\"Mean Absolute Error (MSE): {mae:.4f}\")\n",
    "print(f\"R² Score: {r2:.4f}\")"
   ]
  },
  {
   "cell_type": "markdown",
   "metadata": {},
   "source": [
    "MLP result"
   ]
  },
  {
   "cell_type": "code",
   "execution_count": 33,
   "metadata": {},
   "outputs": [
    {
     "name": "stdout",
     "output_type": "stream",
     "text": [
      "Mean Squared Error (MSE): 1.6438\n",
      "Mean Absolute Error (MSE): 0.9487\n",
      "R² Score: 0.8625\n"
     ]
    }
   ],
   "source": [
    "from sklearn.neural_network import MLPRegressor\n",
    "mlp = MLPRegressor(hidden_layer_sizes=(128, 64, 32), activation='relu', solver='adam', max_iter=300, random_state=42)\n",
    "mlp.fit(X_train, y_train)\n",
    "\n",
    "# Predict and evaluate\n",
    "y_pred = mlp.predict(X_test)\n",
    "mse = mean_squared_error(y_test, y_pred)\n",
    "mae = mean_absolute_error(y_test,y_pred)\n",
    "r2 = r2_score(y_test, y_pred)\n",
    "\n",
    "# print(f\"Selected Features: {selected_features}\")\n",
    "print(f\"Mean Squared Error (MSE): {mse:.4f}\")\n",
    "print(f\"Mean Absolute Error (MSE): {mae:.4f}\")\n",
    "print(f\"R² Score: {r2:.4f}\")"
   ]
  },
  {
   "cell_type": "markdown",
   "metadata": {},
   "source": [
    "Random forest result "
   ]
  },
  {
   "cell_type": "code",
   "execution_count": 34,
   "metadata": {},
   "outputs": [
    {
     "name": "stdout",
     "output_type": "stream",
     "text": [
      "Mean Absolute Error (MAE): 0.8603\n",
      "Mean Squared Error (MSE): 1.3911\n",
      "Root Mean Squared Error (RMSE): 1.1794\n",
      "R² Score: 0.8836\n"
     ]
    }
   ],
   "source": [
    "import numpy as np\n",
    "from sklearn.ensemble import RandomForestRegressor\n",
    "from sklearn.metrics import mean_absolute_error, mean_squared_error, r2_score\n",
    "\n",
    "\n",
    "# Initialize and train Random Forest Regressor\n",
    "rf = RandomForestRegressor(n_estimators=100, random_state=42)\n",
    "rf.fit(X_train, y_train)\n",
    "\n",
    "# Predict on test set\n",
    "y_pred = rf.predict(X_test)\n",
    "\n",
    "# Regression Analysis\n",
    "mae = mean_absolute_error(y_test, y_pred)\n",
    "mse = mean_squared_error(y_test, y_pred)\n",
    "rmse = np.sqrt(mse)\n",
    "r2 = r2_score(y_test, y_pred)\n",
    "\n",
    "# Print results\n",
    "print(f\"Mean Absolute Error (MAE): {mae:.4f}\")\n",
    "print(f\"Mean Squared Error (MSE): {mse:.4f}\")\n",
    "print(f\"Root Mean Squared Error (RMSE): {rmse:.4f}\")\n",
    "print(f\"R² Score: {r2:.4f}\")\n"
   ]
  }
 ],
 "metadata": {
  "kernelspec": {
   "display_name": "tiles",
   "language": "python",
   "name": "python3"
  },
  "language_info": {
   "codemirror_mode": {
    "name": "ipython",
    "version": 3
   },
   "file_extension": ".py",
   "mimetype": "text/x-python",
   "name": "python",
   "nbconvert_exporter": "python",
   "pygments_lexer": "ipython3",
   "version": "3.12.7"
  }
 },
 "nbformat": 4,
 "nbformat_minor": 2
}
